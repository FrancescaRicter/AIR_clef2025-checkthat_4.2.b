{
 "cells": [
  {
   "cell_type": "code",
   "id": "initial_id",
   "metadata": {
    "collapsed": true,
    "ExecuteTime": {
     "end_time": "2025-05-30T15:28:01.882942Z",
     "start_time": "2025-05-30T15:28:01.861893Z"
    }
   },
   "source": [
    "import time\n",
    "import string, json, csv\n",
    "import numpy as np\n",
    "import pandas as pd\n",
    "import nltk\n",
    "from rank_bm25 import BM25Okapi\n",
    "from nltk.corpus import stopwords\n",
    "from nltk.stem import WordNetLemmatizer"
   ],
   "outputs": [],
   "execution_count": 10
  },
  {
   "metadata": {},
   "cell_type": "markdown",
   "source": "NLTK setup",
   "id": "2fe107dc95743a85"
  },
  {
   "metadata": {
    "ExecuteTime": {
     "end_time": "2025-05-30T15:28:01.944729Z",
     "start_time": "2025-05-30T15:28:01.935728Z"
    }
   },
   "cell_type": "code",
   "source": [
    "nltk.download('punkt',   quiet=True)\n",
    "nltk.download('stopwords',quiet=True)\n",
    "nltk.download('wordnet', quiet=True)"
   ],
   "id": "20a8cd6725290136",
   "outputs": [
    {
     "data": {
      "text/plain": [
       "True"
      ]
     },
     "execution_count": 11,
     "metadata": {},
     "output_type": "execute_result"
    }
   ],
   "execution_count": 11
  },
  {
   "metadata": {},
   "cell_type": "markdown",
   "source": "Loading datasets",
   "id": "dd7a92c302247ee6"
  },
  {
   "metadata": {
    "ExecuteTime": {
     "end_time": "2025-05-30T15:28:02.100599Z",
     "start_time": "2025-05-30T15:28:01.977890Z"
    }
   },
   "cell_type": "code",
   "source": [
    "COLLECTION_PATH     = '../subtask4b_collection_data.pkl'\n",
    "TRAIN_QUERY_PATH    = '../subtask4b_query_tweets_train.tsv'\n",
    "DEV_QUERY_PATH      = '../subtask4b_query_tweets_dev.tsv'\n",
    "OUT_TRAIN_PRED_PATH = 'predictions_train.tsv'\n",
    "OUT_DEV_PRED_PATH   = '../predictions_dev.tsv'\n",
    "\n",
    "df_col   = pd.read_pickle(COLLECTION_PATH)\n",
    "df_train = pd.read_csv(TRAIN_QUERY_PATH, sep='\\t', dtype={'post_id':str})\n",
    "df_dev   = pd.read_csv(DEV_QUERY_PATH,   sep='\\t', dtype={'post_id':str})"
   ],
   "id": "92033c9f9a6dd08f",
   "outputs": [],
   "execution_count": 12
  },
  {
   "metadata": {},
   "cell_type": "markdown",
   "source": "Preprocessing + unigram & bigram tokenizer",
   "id": "c877a10958a90a92"
  },
  {
   "metadata": {
    "ExecuteTime": {
     "end_time": "2025-05-30T15:28:02.147594Z",
     "start_time": "2025-05-30T15:28:02.134598Z"
    }
   },
   "cell_type": "code",
   "source": [
    "stop_words = set(stopwords.words('english'))\n",
    "lemmatizer = WordNetLemmatizer()\n",
    "\n",
    "def tokenize_and_ngrams(text: str):\n",
    "    txt = (text or '').lower().translate(\n",
    "        str.maketrans(string.punctuation, ' '*len(string.punctuation)))\n",
    "    tokens = [\n",
    "        lemmatizer.lemmatize(tok)\n",
    "        for tok in nltk.word_tokenize(txt)\n",
    "        if tok.isalpha() and tok not in stop_words\n",
    "    ]\n",
    "    bigrams = [f\"{tokens[i]}_{tokens[i+1]}\" for i in range(len(tokens)-1)]\n",
    "    return tokens + bigrams"
   ],
   "id": "fb7fad986a1d0d4d",
   "outputs": [],
   "execution_count": 13
  },
  {
   "metadata": {},
   "cell_type": "markdown",
   "source": "Build the BM25 corpus: title×2 + abstract",
   "id": "5cff048b8c55b6d0"
  },
  {
   "metadata": {
    "ExecuteTime": {
     "end_time": "2025-05-30T15:28:13.353422Z",
     "start_time": "2025-05-30T15:28:02.183130Z"
    }
   },
   "cell_type": "code",
   "source": [
    "titles    = df_col['title'].fillna('').tolist()\n",
    "abstracts = df_col['abstract'].fillna('').tolist()\n",
    "uids      = df_col['cord_uid'].tolist()\n",
    "\n",
    "bm25_corpus = []\n",
    "for t,a in zip(titles, abstracts):\n",
    "    t_toks = tokenize_and_ngrams(t)\n",
    "    a_toks = tokenize_and_ngrams(a)\n",
    "    bm25_corpus.append(t_toks*2 + a_toks)  # title-boost ×2"
   ],
   "id": "256ae5a9f0d3bb5",
   "outputs": [],
   "execution_count": 14
  },
  {
   "metadata": {},
   "cell_type": "markdown",
   "source": "Initialize BM25 with tuned params",
   "id": "df1c36515db007ee"
  },
  {
   "metadata": {
    "ExecuteTime": {
     "end_time": "2025-05-30T15:28:15.044722Z",
     "start_time": "2025-05-30T15:28:13.386428Z"
    }
   },
   "cell_type": "code",
   "source": "bm25 = BM25Okapi(bm25_corpus, k1=1.0, b=0.9)",
   "id": "59e2a7fa16eeb28c",
   "outputs": [],
   "execution_count": 15
  },
  {
   "metadata": {},
   "cell_type": "markdown",
   "source": "Retrieval function (top-5)",
   "id": "73f59169f19d3eb"
  },
  {
   "metadata": {
    "ExecuteTime": {
     "end_time": "2025-05-30T15:28:15.091590Z",
     "start_time": "2025-05-30T15:28:15.077843Z"
    }
   },
   "cell_type": "code",
   "source": [
    "def retrieve_top5(text: str):\n",
    "    q_toks = tokenize_and_ngrams(text)\n",
    "    scores = bm25.get_scores(q_toks)\n",
    "    top5   = np.argsort(scores)[::-1][:5]\n",
    "    return [uids[i] for i in top5]"
   ],
   "id": "8dcfc82632bd749f",
   "outputs": [],
   "execution_count": 16
  },
  {
   "metadata": {},
   "cell_type": "markdown",
   "source": "Run + evaluate function",
   "id": "1aa6b7904f29fd63"
  },
  {
   "metadata": {
    "ExecuteTime": {
     "end_time": "2025-05-30T15:28:15.138828Z",
     "start_time": "2025-05-30T15:28:15.126583Z"
    }
   },
   "cell_type": "code",
   "source": [
    "def compute_mrrs(df, ks=(1,5,10)):\n",
    "    n = len(df)\n",
    "    all_preds = [json.loads(p) for p in df['preds']]\n",
    "    golds     = df['cord_uid'].tolist()\n",
    "    mrrs = {}\n",
    "    for k in ks:\n",
    "        rr = 0.0\n",
    "        for gold, preds in zip(golds, all_preds):\n",
    "            topk = preds[:k]\n",
    "            if gold in topk:\n",
    "                rr += 1.0 / (topk.index(gold) + 1)\n",
    "        mrrs[f\"MRR@{k}\"] = rr / n\n",
    "    return mrrs\n",
    "\n",
    "def run_and_time(df, name):\n",
    "    start = time.perf_counter()\n",
    "    df['preds'] = df['tweet_text'].map(lambda q: json.dumps(retrieve_top5(q)))\n",
    "    elapsed = time.perf_counter() - start\n",
    "\n",
    "    mrrs = compute_mrrs(df, ks=(1,5,10))\n",
    "    print(f\"[{name}] Retrieval time: {elapsed:.2f}s\")\n",
    "    for k, v in mrrs.items():\n",
    "        print(f\"[{name}] {k} = {v:.3f}\")\n",
    "    print()\n",
    "\n",
    "    return elapsed, mrrs"
   ],
   "id": "19b9f265ec0399ad",
   "outputs": [],
   "execution_count": 17
  },
  {
   "metadata": {},
   "cell_type": "markdown",
   "source": "Execute for train & dev",
   "id": "19de2c4ab2012446"
  },
  {
   "metadata": {
    "ExecuteTime": {
     "end_time": "2025-05-30T15:51:22.662975Z",
     "start_time": "2025-05-30T15:28:15.172614Z"
    }
   },
   "cell_type": "code",
   "source": [
    "train_time, train_mrrs = run_and_time(df_train, 'TRAIN')\n",
    "dev_time,   dev_mrrs   = run_and_time(df_dev,   'DEV')"
   ],
   "id": "96ecd957db32f295",
   "outputs": [
    {
     "name": "stdout",
     "output_type": "stream",
     "text": [
      "[TRAIN] Retrieval time: 1254.35s\n",
      "[TRAIN] MRR@1 = 0.583\n",
      "[TRAIN] MRR@5 = 0.626\n",
      "[TRAIN] MRR@10 = 0.626\n",
      "\n",
      "[DEV] Retrieval time: 133.08s\n",
      "[DEV] MRR@1 = 0.593\n",
      "[DEV] MRR@5 = 0.638\n",
      "[DEV] MRR@10 = 0.638\n",
      "\n"
     ]
    }
   ],
   "execution_count": 18
  },
  {
   "metadata": {},
   "cell_type": "markdown",
   "source": "",
   "id": "6a141856edad7a19"
  }
 ],
 "metadata": {
  "kernelspec": {
   "display_name": "Python 3",
   "language": "python",
   "name": "python3"
  },
  "language_info": {
   "codemirror_mode": {
    "name": "ipython",
    "version": 2
   },
   "file_extension": ".py",
   "mimetype": "text/x-python",
   "name": "python",
   "nbconvert_exporter": "python",
   "pygments_lexer": "ipython2",
   "version": "2.7.6"
  }
 },
 "nbformat": 4,
 "nbformat_minor": 5
}
